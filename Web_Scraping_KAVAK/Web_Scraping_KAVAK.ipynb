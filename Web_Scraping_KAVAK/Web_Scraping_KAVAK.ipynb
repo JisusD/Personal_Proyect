{
 "cells": [
  {
   "cell_type": "code",
   "execution_count": 23,
   "id": "fbbc81d9",
   "metadata": {
    "scrolled": true
   },
   "outputs": [],
   "source": [
    "import pandas as pd\n",
    "\n",
    "from bs4 import BeautifulSoup\n",
    "import requests\n",
    "import re"
   ]
  },
  {
   "cell_type": "code",
   "execution_count": 24,
   "id": "87a95445",
   "metadata": {
    "scrolled": true
   },
   "outputs": [
    {
     "name": "stdout",
     "output_type": "stream",
     "text": [
      "200\n"
     ]
    }
   ],
   "source": [
    "# https://www.kavak.com/mx/seminuevos/?maker=changan&model=cs35&region=ciudad_de_mexico&year=2021,2023&page=0\n",
    "url = 'https://www.kavak.com/mx/seminuevos/?page=0'\n",
    "response = requests.get(url)\n",
    "print(response.status_code)\n",
    "soup = BeautifulSoup(response.content,\"html.parser\")"
   ]
  },
  {
   "cell_type": "code",
   "execution_count": 25,
   "id": "ee45a769",
   "metadata": {
    "scrolled": true
   },
   "outputs": [
    {
     "data": {
      "text/plain": [
       "'Chevrolet Spark 1.4 LTZ C MT2017 • Monterrey • 88,309 km $  173,999  $  184,999  Desde  $  2,727  /mes* '"
      ]
     },
     "execution_count": 25,
     "metadata": {},
     "output_type": "execute_result"
    }
   ],
   "source": [
    "soup.find_all(\"div\",{'class': 'card-content'})[0].get_text()"
   ]
  },
  {
   "cell_type": "code",
   "execution_count": 26,
   "id": "3c9dd496",
   "metadata": {
    "scrolled": true
   },
   "outputs": [
    {
     "data": {
      "text/plain": [
       "'Chevrolet Spark 1.4 LTZ C MT'"
      ]
     },
     "execution_count": 26,
     "metadata": {},
     "output_type": "execute_result"
    }
   ],
   "source": [
    "soup.find_all(\"h3\",{'class': 'card-title'})[0].get_text()"
   ]
  },
  {
   "cell_type": "code",
   "execution_count": 27,
   "id": "d2f3a5a6",
   "metadata": {
    "scrolled": true
   },
   "outputs": [
    {
     "data": {
      "text/plain": [
       "'2017 • Monterrey • 88,309 km'"
      ]
     },
     "execution_count": 27,
     "metadata": {},
     "output_type": "execute_result"
    }
   ],
   "source": [
    "soup.find_all(\"p\",{'class': 'card-details'})[0].get_text()"
   ]
  },
  {
   "cell_type": "code",
   "execution_count": 28,
   "id": "655ba01b",
   "metadata": {
    "scrolled": true
   },
   "outputs": [
    {
     "data": {
      "text/plain": [
       "' $  173,999 '"
      ]
     },
     "execution_count": 28,
     "metadata": {},
     "output_type": "execute_result"
    }
   ],
   "source": [
    "soup.find_all(\"span\",{'class': 'normal cash-first'})[0].get_text()"
   ]
  },
  {
   "cell_type": "code",
   "execution_count": 29,
   "id": "fb2ec0be",
   "metadata": {
    "scrolled": true
   },
   "outputs": [
    {
     "data": {
      "text/plain": [
       "' $  184,999 '"
      ]
     },
     "execution_count": 29,
     "metadata": {},
     "output_type": "execute_result"
    }
   ],
   "source": [
    "soup.find_all(\"span\",{'class': 'promotion normal'})[0].get_text()"
   ]
  },
  {
   "cell_type": "code",
   "execution_count": 31,
   "id": "0d0daaae",
   "metadata": {
    "scrolled": true
   },
   "outputs": [
    {
     "data": {
      "text/plain": [
       "' Desde  $  2,727  /mes* '"
      ]
     },
     "execution_count": 31,
     "metadata": {},
     "output_type": "execute_result"
    }
   ],
   "source": [
    "soup.find_all(\"div\",{'class': 'price-period'})[0].get_text()"
   ]
  },
  {
   "cell_type": "code",
   "execution_count": null,
   "id": "8e0f48d9",
   "metadata": {
    "scrolled": true
   },
   "outputs": [],
   "source": []
  }
 ],
 "metadata": {
  "kernelspec": {
   "display_name": "Python 3 (ipykernel)",
   "language": "python",
   "name": "python3"
  },
  "language_info": {
   "codemirror_mode": {
    "name": "ipython",
    "version": 3
   },
   "file_extension": ".py",
   "mimetype": "text/x-python",
   "name": "python",
   "nbconvert_exporter": "python",
   "pygments_lexer": "ipython3",
   "version": "3.9.13"
  }
 },
 "nbformat": 4,
 "nbformat_minor": 5
}
