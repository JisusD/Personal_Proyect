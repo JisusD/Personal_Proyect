{
 "cells": [
  {
   "cell_type": "code",
   "execution_count": 2,
   "id": "b38115c9",
   "metadata": {},
   "outputs": [],
   "source": [
    "import pandas as pd\n",
    "\n",
    "from bs4 import BeautifulSoup\n",
    "import requests\n",
    "import re"
   ]
  },
  {
   "cell_type": "code",
   "execution_count": 3,
   "id": "2fbd046b",
   "metadata": {},
   "outputs": [
    {
     "name": "stdout",
     "output_type": "stream",
     "text": [
      "200\n"
     ]
    }
   ],
   "source": [
    "# https://autos.mercadolibre.com.mx/_Desde_49_NoIndex_True\n",
    "url = 'https://autos.mercadolibre.com.mx/'\n",
    "response = requests.get(url)\n",
    "print(response.status_code)\n",
    "soup = BeautifulSoup(response.content,\"html.parser\")"
   ]
  },
  {
   "cell_type": "code",
   "execution_count": 6,
   "id": "fa31049c",
   "metadata": {},
   "outputs": [
    {
     "data": {
      "text/plain": [
       "'$309,900201989,747 KmVolkswagen Jetta 2.5 Comfortline Tiptronic AtIztacalco - Distrito Federalpor Grupo IZTA'"
      ]
     },
     "execution_count": 6,
     "metadata": {},
     "output_type": "execute_result"
    }
   ],
   "source": [
    "soup.find_all(\"div\",{'class': 'ui-search-result__content-wrapper'})[0].get_text()"
   ]
  },
  {
   "cell_type": "code",
   "execution_count": 7,
   "id": "08999132",
   "metadata": {},
   "outputs": [
    {
     "data": {
      "text/plain": [
       "'$309,900'"
      ]
     },
     "execution_count": 7,
     "metadata": {},
     "output_type": "execute_result"
    }
   ],
   "source": [
    "soup.find_all(\"div\",{'class': 'ui-search-price__second-line'})[0].get_text()"
   ]
  },
  {
   "cell_type": "code",
   "execution_count": 10,
   "id": "66b386d3",
   "metadata": {},
   "outputs": [
    {
     "data": {
      "text/plain": [
       "'2019'"
      ]
     },
     "execution_count": 10,
     "metadata": {},
     "output_type": "execute_result"
    }
   ],
   "source": [
    "soup.find_all(\"li\",{'class': 'ui-search-card-attributes__attribute'})[0].get_text()"
   ]
  },
  {
   "cell_type": "code",
   "execution_count": 15,
   "id": "64af3e18",
   "metadata": {},
   "outputs": [
    {
     "data": {
      "text/plain": [
       "'89,747 Km'"
      ]
     },
     "execution_count": 15,
     "metadata": {},
     "output_type": "execute_result"
    }
   ],
   "source": [
    "soup.find_all(\"li\",{'class': 'ui-search-card-attributes__attribute'})[1].get_text()"
   ]
  },
  {
   "cell_type": "code",
   "execution_count": 17,
   "id": "56cb5e4a",
   "metadata": {},
   "outputs": [
    {
     "data": {
      "text/plain": [
       "'Volkswagen Jetta 2.5 Comfortline Tiptronic At'"
      ]
     },
     "execution_count": 17,
     "metadata": {},
     "output_type": "execute_result"
    }
   ],
   "source": [
    "soup.find_all(\"h2\",{'class': 'ui-search-item__title'})[0].get_text()"
   ]
  },
  {
   "cell_type": "code",
   "execution_count": 18,
   "id": "1c509129",
   "metadata": {},
   "outputs": [
    {
     "data": {
      "text/plain": [
       "'Iztacalco - Distrito Federal'"
      ]
     },
     "execution_count": 18,
     "metadata": {},
     "output_type": "execute_result"
    }
   ],
   "source": [
    "soup.find_all(\"span\",{'class': 'ui-search-item__group__element ui-search-item__location'})[0].get_text()"
   ]
  },
  {
   "cell_type": "code",
   "execution_count": 19,
   "id": "89021051",
   "metadata": {},
   "outputs": [
    {
     "data": {
      "text/plain": [
       "'por Grupo IZTA'"
      ]
     },
     "execution_count": 19,
     "metadata": {},
     "output_type": "execute_result"
    }
   ],
   "source": [
    "soup.find_all(\"p\",{'class': 'ui-search-official-store-label ui-search-item__group__element ui-search-color--GRAY'})[0].get_text()"
   ]
  },
  {
   "cell_type": "code",
   "execution_count": 22,
   "id": "4b7ab883",
   "metadata": {},
   "outputs": [],
   "source": [
    "i = len(soup.find_all(\"div\",{'class': 'ui-search-result__content-wrapper'}))"
   ]
  },
  {
   "cell_type": "code",
   "execution_count": 23,
   "id": "20e49c15",
   "metadata": {},
   "outputs": [
    {
     "data": {
      "text/plain": [
       "48"
      ]
     },
     "execution_count": 23,
     "metadata": {},
     "output_type": "execute_result"
    }
   ],
   "source": [
    "i"
   ]
  },
  {
   "cell_type": "code",
   "execution_count": null,
   "id": "ba73b8d0",
   "metadata": {},
   "outputs": [],
   "source": []
  }
 ],
 "metadata": {
  "kernelspec": {
   "display_name": "Python 3 (ipykernel)",
   "language": "python",
   "name": "python3"
  },
  "language_info": {
   "codemirror_mode": {
    "name": "ipython",
    "version": 3
   },
   "file_extension": ".py",
   "mimetype": "text/x-python",
   "name": "python",
   "nbconvert_exporter": "python",
   "pygments_lexer": "ipython3",
   "version": "3.9.13"
  }
 },
 "nbformat": 4,
 "nbformat_minor": 5
}
